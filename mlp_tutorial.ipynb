{
 "cells": [
  {
   "cell_type": "markdown",
   "metadata": {},
   "source": [
    "## Multi-layer Perceptron\n",
    "In this example, we will build a simple classifier for MNIST dataset.\n",
    "\n",
    "Let's begin by importing the required packages."
   ]
  },
  {
   "cell_type": "code",
   "execution_count": 1,
   "metadata": {},
   "outputs": [],
   "source": [
    "import torch\n",
    "import torch.nn as nn\n",
    "import torchvision         # pip install torchvision\n",
    "import torchvision.transforms as transforms"
   ]
  },
  {
   "cell_type": "markdown",
   "metadata": {},
   "source": [
    "It's important to write code in a way which can run both on CPU and GPU."
   ]
  },
  {
   "cell_type": "code",
   "execution_count": 2,
   "metadata": {},
   "outputs": [],
   "source": [
    "# Device configuration\n",
    "device = torch.device('cuda' if torch.cuda.is_available() else 'cpu')"
   ]
  },
  {
   "cell_type": "markdown",
   "metadata": {},
   "source": [
    "Let's define some hyper-parameters for our simple MLP model now. Note that when you actually write a code, a good practice is to use program arguments for defining the hyper-parameters. "
   ]
  },
  {
   "cell_type": "code",
   "execution_count": 3,
   "metadata": {},
   "outputs": [],
   "source": [
    "# Hyper-parameters \n",
    "input_size = 784\n",
    "hidden_size = 500\n",
    "num_classes = 10\n",
    "num_epochs = 5\n",
    "batch_size = 100\n",
    "learning_rate = 0.001\n"
   ]
  },
  {
   "cell_type": "markdown",
   "metadata": {},
   "source": [
    "There are a lot of standard datasets which can be downloaded through torchvision. Getting the MNIST data now."
   ]
  },
  {
   "cell_type": "code",
   "execution_count": 4,
   "metadata": {},
   "outputs": [
    {
     "name": "stdout",
     "output_type": "stream",
     "text": [
      "Downloading http://yann.lecun.com/exdb/mnist/train-images-idx3-ubyte.gz\n",
      "Downloading http://yann.lecun.com/exdb/mnist/train-labels-idx1-ubyte.gz\n",
      "Downloading http://yann.lecun.com/exdb/mnist/t10k-images-idx3-ubyte.gz\n",
      "Downloading http://yann.lecun.com/exdb/mnist/t10k-labels-idx1-ubyte.gz\n",
      "Processing...\n",
      "Done!\n"
     ]
    }
   ],
   "source": [
    "# MNIST dataset \n",
    "train_dataset = torchvision.datasets.MNIST(root='../../data', \n",
    "                                           train=True, \n",
    "                                           transform=transforms.ToTensor(),  \n",
    "                                           download=True)\n",
    "# Each element in the dataset is of dimension (1 x 28 x 28) correponsing to (channels x height x width)\n",
    "\n",
    "test_dataset = torchvision.datasets.MNIST(root='../../data', \n",
    "                                          train=False, \n",
    "                                          transform=transforms.ToTensor())"
   ]
  },
  {
   "cell_type": "markdown",
   "metadata": {},
   "source": [
    "Pytorch provides a DataLoader class, which has utility functions for creating minibatches and easily shuffling the data during training. You can also write your own dataloader."
   ]
  },
  {
   "cell_type": "code",
   "execution_count": 15,
   "metadata": {},
   "outputs": [],
   "source": [
    "# Data loader\n",
    "train_loader = torch.utils.data.DataLoader(dataset=train_dataset, \n",
    "                                           batch_size=batch_size, \n",
    "                                           shuffle=True)\n",
    "\n",
    "test_loader = torch.utils.data.DataLoader(dataset=test_dataset, \n",
    "                                          batch_size=batch_size, \n",
    "                                          shuffle=False)"
   ]
  },
  {
   "cell_type": "markdown",
   "metadata": {},
   "source": [
    "Let's implement a simple feed-forward network with one hidden layer."
   ]
  },
  {
   "cell_type": "code",
   "execution_count": 17,
   "metadata": {},
   "outputs": [],
   "source": [
    "# Fully connected neural network with one hidden layer\n",
    "class NeuralNet(nn.Module):\n",
    "    def __init__(self, input_size, hidden_size, num_classes):\n",
    "        super(NeuralNet, self).__init__()\n",
    "        self.fc1 = nn.Linear(input_size, hidden_size) \n",
    "        self.sign = nn.Sigmoid()\n",
    "        self.fc2 = nn.Linear(hidden_size, num_classes)  \n",
    "    \n",
    "    def forward(self, s):\n",
    "        out = self.fc1(s)     # batch_size x 500\n",
    "        out = self.sign(out)\n",
    "        out = self.fc2(out)   # batch_size x num_classes\n",
    "        return out"
   ]
  },
  {
   "cell_type": "markdown",
   "metadata": {},
   "source": [
    "We have defined a model above. Let's try to instantiate the model."
   ]
  },
  {
   "cell_type": "code",
   "execution_count": 18,
   "metadata": {},
   "outputs": [],
   "source": [
    "model = NeuralNet(input_size, hidden_size, num_classes).to(device)       # .to() moves the model to the GPU if available\n",
    "\n",
    "# Loss and optimizer\n",
    "criterion = nn.CrossEntropyLoss()\n",
    "optimizer = torch.optim.Adam(model.parameters(), lr=learning_rate)  "
   ]
  },
  {
   "cell_type": "markdown",
   "metadata": {},
   "source": [
    "We are all set to train our first model. Let's begin the **training** loop..."
   ]
  },
  {
   "cell_type": "code",
   "execution_count": 19,
   "metadata": {},
   "outputs": [
    {
     "name": "stdout",
     "output_type": "stream",
     "text": [
      "Epoch [1/5], Step [100/600], Loss: 0.5206\n",
      "Epoch [1/5], Step [200/600], Loss: 0.4570\n",
      "Epoch [1/5], Step [300/600], Loss: 0.3054\n",
      "Epoch [1/5], Step [400/600], Loss: 0.2922\n",
      "Epoch [1/5], Step [500/600], Loss: 0.3086\n",
      "Epoch [1/5], Step [600/600], Loss: 0.2555\n",
      "Epoch [2/5], Step [100/600], Loss: 0.2131\n",
      "Epoch [2/5], Step [200/600], Loss: 0.1772\n",
      "Epoch [2/5], Step [300/600], Loss: 0.1982\n",
      "Epoch [2/5], Step [400/600], Loss: 0.3384\n",
      "Epoch [2/5], Step [500/600], Loss: 0.3317\n",
      "Epoch [2/5], Step [600/600], Loss: 0.1485\n",
      "Epoch [3/5], Step [100/600], Loss: 0.2184\n",
      "Epoch [3/5], Step [200/600], Loss: 0.2601\n",
      "Epoch [3/5], Step [300/600], Loss: 0.1159\n",
      "Epoch [3/5], Step [400/600], Loss: 0.2290\n",
      "Epoch [3/5], Step [500/600], Loss: 0.0902\n",
      "Epoch [3/5], Step [600/600], Loss: 0.1996\n",
      "Epoch [4/5], Step [100/600], Loss: 0.0943\n",
      "Epoch [4/5], Step [200/600], Loss: 0.1360\n",
      "Epoch [4/5], Step [300/600], Loss: 0.0974\n",
      "Epoch [4/5], Step [400/600], Loss: 0.2533\n",
      "Epoch [4/5], Step [500/600], Loss: 0.0889\n",
      "Epoch [4/5], Step [600/600], Loss: 0.1137\n",
      "Epoch [5/5], Step [100/600], Loss: 0.1318\n",
      "Epoch [5/5], Step [200/600], Loss: 0.0545\n",
      "Epoch [5/5], Step [300/600], Loss: 0.0678\n",
      "Epoch [5/5], Step [400/600], Loss: 0.1217\n",
      "Epoch [5/5], Step [500/600], Loss: 0.0405\n",
      "Epoch [5/5], Step [600/600], Loss: 0.1049\n"
     ]
    }
   ],
   "source": [
    "# Train the model\n",
    "total_step = len(train_loader)\n",
    "for epoch in range(num_epochs):\n",
    "    for i, (images, labels) in enumerate(train_loader):\n",
    "        # tensor dimensions\n",
    "        # images (batch_size x 1 x 28 x 28)\n",
    "        # labels (100)\n",
    "        \n",
    "        # Move tensors to the configured device\n",
    "        images = images.view(-1, 28*28).to(device)   # reshaping the images tensors (batch_size x 784)\n",
    "        labels = labels.to(device)\n",
    "        \n",
    "        # Forward pass\n",
    "        outputs = model(images)\n",
    "        loss = criterion(outputs, labels)\n",
    "        \n",
    "        # Backward and optimize\n",
    "        \n",
    "        # Every time a varpiable is back propogated through, the gradient will be accumulated instead of being replaced.\n",
    "        # Since the backward() function accumulates gradients, and you don’t want to mix up gradients between minibatches,\n",
    "        # you have to zero them out at the start of a new minibatch. In some scenarios you might want to accumulate though.\n",
    "        optimizer.zero_grad()\n",
    "        \n",
    "        loss.backward()\n",
    "        \n",
    "        # optimizer.step is performs a parameter update based on the current gradient \n",
    "        # (stored in .grad attribute of a parameter) and the update rule.\n",
    "        optimizer.step()\n",
    "        \n",
    "        if (i+1) % 100 == 0:\n",
    "            print ('Epoch [{}/{}], Step [{}/{}], Loss: {:.4f}' \n",
    "                   .format(epoch+1, num_epochs, i+1, total_step, loss.item()))"
   ]
  },
  {
   "cell_type": "markdown",
   "metadata": {},
   "source": [
    "Once the loss converges, we can check the performance on the test set."
   ]
  },
  {
   "cell_type": "code",
   "execution_count": 13,
   "metadata": {},
   "outputs": [
    {
     "name": "stdout",
     "output_type": "stream",
     "text": [
      "Accuracy of the network on the 10000 test images: 97.63 %\n"
     ]
    }
   ],
   "source": [
    "# Test the model\n",
    "# In test phase, we don't need to compute gradients (for memory efficiency)\n",
    "# The wrapper \"with torch.no_grad()\" temporarily sets all the requires_grad flag to false\n",
    "\n",
    "with torch.no_grad():\n",
    "    correct = 0\n",
    "    total = 0\n",
    "    for images, labels in test_loader:\n",
    "        images = images.view(-1, 28*28).to(device)\n",
    "        labels = labels.to(device)\n",
    "        outputs = model(images)\n",
    "        _, predicted = torch.max(outputs.data, 1)\n",
    "        total += labels.size(0)\n",
    "        correct += (predicted == labels).sum().item()\n",
    "\n",
    "    print('Accuracy of the network on the 10000 test images: {} %'.format(100 * correct / total))"
   ]
  },
  {
   "cell_type": "markdown",
   "metadata": {},
   "source": [
    "Save the model for later use. You can keep saving the models during the training loop as well."
   ]
  },
  {
   "cell_type": "code",
   "execution_count": 14,
   "metadata": {},
   "outputs": [],
   "source": [
    "# Save the model checkpoint\n",
    "torch.save(model.state_dict(), 'model.ckpt')"
   ]
  },
  {
   "cell_type": "code",
   "execution_count": null,
   "metadata": {},
   "outputs": [],
   "source": []
  }
 ],
 "metadata": {
  "kernelspec": {
   "display_name": "Python 3",
   "language": "python",
   "name": "python3"
  },
  "language_info": {
   "codemirror_mode": {
    "name": "ipython",
    "version": 3
   },
   "file_extension": ".py",
   "mimetype": "text/x-python",
   "name": "python",
   "nbconvert_exporter": "python",
   "pygments_lexer": "ipython3",
   "version": "3.7.2"
  }
 },
 "nbformat": 4,
 "nbformat_minor": 2
}
